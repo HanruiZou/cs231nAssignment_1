version https://git-lfs.github.com/spec/v1
oid sha256:9c7ab36d7e704a500b6c12671a0a2dfe09e30a6ef82138a8a7a8d34325461ba3
size 13021
