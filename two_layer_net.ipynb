version https://git-lfs.github.com/spec/v1
oid sha256:d68b7311a29f33d8c1d341af2dfd4c62a1ad1d4ada510cba6f4a8a5c8eecb8c7
size 322310
