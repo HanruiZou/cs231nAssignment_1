version https://git-lfs.github.com/spec/v1
oid sha256:7a107f31105fd2c3c18ca1e0cf013bbd075f0f170976396026d169b4001d4e8b
size 13025
