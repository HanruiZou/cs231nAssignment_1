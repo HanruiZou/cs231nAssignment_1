version https://git-lfs.github.com/spec/v1
oid sha256:46eb8288b505e8130b8574b053ecd3c77bcaa77fb7bbdf8f30a602d32d1d2c40
size 12607
