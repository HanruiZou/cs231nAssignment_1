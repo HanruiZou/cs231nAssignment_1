version https://git-lfs.github.com/spec/v1
oid sha256:1fe2973bc14111213d33a66cf3c772a9d0c7161bf6f627ceb807e984fcb4a91a
size 245001
